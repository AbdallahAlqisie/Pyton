{
  "nbformat": 4,
  "nbformat_minor": 0,
  "metadata": {
    "colab": {
      "provenance": []
    },
    "kernelspec": {
      "name": "python3",
      "display_name": "Python 3"
    },
    "language_info": {
      "name": "python"
    }
  },
  "cells": [
    {
      "cell_type": "code",
      "execution_count": 4,
      "metadata": {
        "id": "r3OwlJphpUbI"
      },
      "outputs": [],
      "source": [
        "def simple_cal(x,y,operator) :\n",
        "  if operator ==\"+\" :\n",
        "    print(x+y)\n",
        "  elif operator== \"-\" :\n",
        "    print(x-y)\n",
        "  elif operator== \"*\" :\n",
        "    print(x*y)\n",
        "  elif operator== \"/\" :\n",
        "    print(x/y)\n",
        "  elif operator== \"**\" :\n",
        "    print(x**y)\n",
        "  elif operator==\"//\":\n",
        "    print(x//y)\n",
        "  elif operator==\"%\":\n",
        "    print(x%y)\n",
        "  else :\n",
        "    print(\"check your operator\")\n",
        "\n",
        "\n",
        "\n"
      ]
    },
    {
      "cell_type": "code",
      "source": [
        "simple_cal(1,2,\"**\")"
      ],
      "metadata": {
        "colab": {
          "base_uri": "https://localhost:8080/"
        },
        "id": "h1jUUZFRr6Cq",
        "outputId": "9d74bd0d-aa33-4b9a-e048-1ce51dc4e486"
      },
      "execution_count": 7,
      "outputs": [
        {
          "output_type": "stream",
          "name": "stdout",
          "text": [
            "1\n"
          ]
        }
      ]
    }
  ]
}